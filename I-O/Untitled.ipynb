{
 "cells": [
  {
   "cell_type": "code",
   "execution_count": null,
   "metadata": {},
   "outputs": [],
   "source": [
    "import numpy as np\n",
    "\n",
    "def draw_board():\n",
    "   board =np.zeros((6,7)) \n",
    "   return board\n",
    "   \n",
    "draw_board()\n",
    "\n",
    "board = dare_board()\n",
    "\n",
    "game_over = False\n",
    "turn = 0\n",
    "\n",
    "while not game_over:\n",
    "    #Player 1 turn\n",
    "    if turn ==0:\n",
    "       selection"
   ]
  },
  {
   "cell_type": "code",
   "execution_count": null,
   "metadata": {},
   "outputs": [],
   "source": []
  }
 ],
 "metadata": {
  "kernelspec": {
   "display_name": "Python 3",
   "language": "python",
   "name": "python3"
  }
 },
 "nbformat": 4,
 "nbformat_minor": 4
}
